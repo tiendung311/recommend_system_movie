{
  "cells": [
    {
      "cell_type": "code",
      "execution_count": 1,
      "metadata": {
        "id": "LGTS6kqRsBr4"
      },
      "outputs": [],
      "source": [
        "import pandas as pd\n",
        "import os\n",
        "import torch\n",
        "import torch.nn as nn\n",
        "import torch.nn.functional as F\n",
        "from torch.utils.data import Dataset, DataLoader\n",
        "from sklearn.preprocessing import LabelEncoder\n",
        "from tqdm import tqdm\n",
        "import joblib"
      ]
    },
    {
      "cell_type": "code",
      "execution_count": 2,
      "metadata": {
        "id": "QUBsRERZsC1a"
      },
      "outputs": [],
      "source": [
        "# ----------------------------\n",
        "# BƯỚC 1: Load dữ liệu\n",
        "# ----------------------------\n",
        "def load_data(base_dir='ml-1m'):\n",
        "    ratings = pd.read_csv(os.path.join(base_dir, 'ratings.dat'), sep='::', engine='python',\n",
        "                          names=['userId', 'movieId', 'rating', 'timestamp'])\n",
        "    users = pd.read_csv(os.path.join(base_dir, 'users.dat'), sep='::', engine='python',\n",
        "                        names=['userId', 'gender', 'age', 'occupation', 'zip'])\n",
        "    movies = pd.read_csv(os.path.join(base_dir, 'movies.dat'), sep='::', engine='python',\n",
        "                         names=['movieId', 'title', 'genres'], encoding='latin-1')\n",
        "    return ratings, users, movies\n",
        "\n",
        "ratings_df, users_df, movies_df = load_data()"
      ]
    },
    {
      "cell_type": "code",
      "execution_count": 3,
      "metadata": {
        "colab": {
          "base_uri": "https://localhost:8080/"
        },
        "id": "wjCgMoxMsRzR",
        "outputId": "86313a5c-322a-4279-b361-2da31c23d1d0"
      },
      "outputs": [
        {
          "name": "stdout",
          "output_type": "stream",
          "text": [
            "✔️ Số lượng người dùng: 6040\n",
            "✔️ Số lượng phim: 3706\n"
          ]
        }
      ],
      "source": [
        "# ----------------------------\n",
        "# BƯỚC 2: Tiền xử lý & Encode\n",
        "# ----------------------------\n",
        "user_encoder = LabelEncoder()\n",
        "item_encoder = LabelEncoder()\n",
        "\n",
        "ratings_df['user'] = user_encoder.fit_transform(ratings_df['userId'])\n",
        "ratings_df['item'] = item_encoder.fit_transform(ratings_df['movieId'])\n",
        "\n",
        "n_users = ratings_df['user'].nunique()\n",
        "n_items = ratings_df['item'].nunique()\n",
        "\n",
        "print(f\"✔️ Số lượng người dùng: {n_users}\")\n",
        "print(f\"✔️ Số lượng phim: {n_items}\")"
      ]
    },
    {
      "cell_type": "code",
      "execution_count": 4,
      "metadata": {
        "id": "3yodaajvsU3Z"
      },
      "outputs": [],
      "source": [
        "# ----------------------------\n",
        "# BƯỚC 3: Dataset & DataLoader\n",
        "# ----------------------------\n",
        "class RatingDataset(Dataset):\n",
        "    def __init__(self, df):\n",
        "        self.users = torch.tensor(df['user'].values, dtype=torch.long)\n",
        "        self.items = torch.tensor(df['item'].values, dtype=torch.long)\n",
        "        self.ratings = torch.tensor(df['rating'].values, dtype=torch.float32)\n",
        "\n",
        "    def __len__(self):\n",
        "        return len(self.ratings)\n",
        "\n",
        "    def __getitem__(self, idx):\n",
        "        return self.users[idx], self.items[idx], self.ratings[idx]\n",
        "\n",
        "dataset = RatingDataset(ratings_df)\n",
        "dataloader = DataLoader(dataset, batch_size=256, shuffle=True)"
      ]
    },
    {
      "cell_type": "code",
      "execution_count": 5,
      "metadata": {
        "id": "0Qb3AiHJsYeR"
      },
      "outputs": [],
      "source": [
        "# ----------------------------\n",
        "# BƯỚC 4: Mô hình NCF\n",
        "# ----------------------------\n",
        "class NCF(nn.Module):\n",
        "    def __init__(self, num_users, num_items, emb_size=50):\n",
        "        super(NCF, self).__init__()\n",
        "        self.user_emb = nn.Embedding(num_users, emb_size)\n",
        "        self.item_emb = nn.Embedding(num_items, emb_size)\n",
        "        self.fc1 = nn.Linear(emb_size * 2, 128)\n",
        "        self.fc2 = nn.Linear(128, 64)\n",
        "        self.output = nn.Linear(64, 1)\n",
        "\n",
        "    def forward(self, user, item):\n",
        "        u = self.user_emb(user)\n",
        "        i = self.item_emb(item)\n",
        "        x = torch.cat([u, i], dim=-1)\n",
        "        x = F.relu(self.fc1(x))\n",
        "        x = F.relu(self.fc2(x))\n",
        "        return self.output(x).squeeze()\n",
        "\n",
        "model = NCF(n_users, n_items)\n",
        "optimizer = torch.optim.Adam(model.parameters(), lr=0.001)\n",
        "loss_fn = nn.MSELoss()"
      ]
    },
    {
      "cell_type": "code",
      "execution_count": 6,
      "metadata": {
        "colab": {
          "base_uri": "https://localhost:8080/"
        },
        "id": "HxxEPoBFsdrJ",
        "outputId": "ef58bc8f-81a9-4c7e-b411-550784d0c713"
      },
      "outputs": [
        {
          "name": "stderr",
          "output_type": "stream",
          "text": [
            "Epoch 1/5: 100%|██████████| 3908/3908 [00:20<00:00, 193.55it/s]\n"
          ]
        },
        {
          "name": "stdout",
          "output_type": "stream",
          "text": [
            "📉 Epoch 1: Loss = 1.0071\n"
          ]
        },
        {
          "name": "stderr",
          "output_type": "stream",
          "text": [
            "Epoch 2/5: 100%|██████████| 3908/3908 [00:21<00:00, 184.25it/s]\n"
          ]
        },
        {
          "name": "stdout",
          "output_type": "stream",
          "text": [
            "📉 Epoch 2: Loss = 0.8467\n"
          ]
        },
        {
          "name": "stderr",
          "output_type": "stream",
          "text": [
            "Epoch 3/5: 100%|██████████| 3908/3908 [00:19<00:00, 198.12it/s]\n"
          ]
        },
        {
          "name": "stdout",
          "output_type": "stream",
          "text": [
            "📉 Epoch 3: Loss = 0.8267\n"
          ]
        },
        {
          "name": "stderr",
          "output_type": "stream",
          "text": [
            "Epoch 4/5: 100%|██████████| 3908/3908 [00:20<00:00, 192.39it/s]\n"
          ]
        },
        {
          "name": "stdout",
          "output_type": "stream",
          "text": [
            "📉 Epoch 4: Loss = 0.8155\n"
          ]
        },
        {
          "name": "stderr",
          "output_type": "stream",
          "text": [
            "Epoch 5/5: 100%|██████████| 3908/3908 [00:20<00:00, 191.59it/s]"
          ]
        },
        {
          "name": "stdout",
          "output_type": "stream",
          "text": [
            "📉 Epoch 5: Loss = 0.8071\n"
          ]
        },
        {
          "name": "stderr",
          "output_type": "stream",
          "text": [
            "\n"
          ]
        }
      ],
      "source": [
        "# ----------------------------\n",
        "# BƯỚC 5: Huấn luyện mô hình\n",
        "# ----------------------------\n",
        "n_epochs = 5\n",
        "model.train()\n",
        "for epoch in range(n_epochs):\n",
        "    epoch_loss = 0\n",
        "    for users, items, ratings in tqdm(dataloader, desc=f\"Epoch {epoch+1}/{n_epochs}\"):\n",
        "        preds = model(users, items)\n",
        "        loss = loss_fn(preds, ratings)\n",
        "\n",
        "        optimizer.zero_grad()\n",
        "        loss.backward()\n",
        "        optimizer.step()\n",
        "        epoch_loss += loss.item()\n",
        "    print(f\"📉 Epoch {epoch+1}: Loss = {epoch_loss / len(dataloader):.4f}\")"
      ]
    },
    {
      "cell_type": "code",
      "execution_count": 7,
      "metadata": {
        "colab": {
          "base_uri": "https://localhost:8080/"
        },
        "id": "eVXB823vsf8J",
        "outputId": "0ab62be8-0118-4251-b1b8-66998216a45e"
      },
      "outputs": [
        {
          "name": "stdout",
          "output_type": "stream",
          "text": [
            "✅ Đã lưu mô hình vào ncf_model.pt\n"
          ]
        }
      ],
      "source": [
        "# ----------------------------\n",
        "# BƯỚC 6: Lưu mô hình\n",
        "# ----------------------------\n",
        "torch.save(model.state_dict(), 'ncf_model.pt')\n",
        "joblib.dump(user_encoder, 'user_encoder.pkl')\n",
        "joblib.dump(item_encoder, 'item_encoder.pkl')\n",
        "print(\"✅ Đã lưu mô hình vào ncf_model.pt\")"
      ]
    }
  ],
  "metadata": {
    "colab": {
      "provenance": []
    },
    "kernelspec": {
      "display_name": "Python 3",
      "name": "python3"
    },
    "language_info": {
      "codemirror_mode": {
        "name": "ipython",
        "version": 3
      },
      "file_extension": ".py",
      "mimetype": "text/x-python",
      "name": "python",
      "nbconvert_exporter": "python",
      "pygments_lexer": "ipython3",
      "version": "3.13.2"
    }
  },
  "nbformat": 4,
  "nbformat_minor": 0
}
